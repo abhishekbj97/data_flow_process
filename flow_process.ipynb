{
  "nbformat": 4,
  "nbformat_minor": 0,
  "metadata": {
    "colab": {
      "provenance": [],
      "toc_visible": true
    },
    "kernelspec": {
      "name": "python3",
      "display_name": "Python 3"
    },
    "language_info": {
      "name": "python"
    }
  },
  "cells": [
    {
      "cell_type": "markdown",
      "source": [
        "#1.Nvidai GPU Checking"
      ],
      "metadata": {
        "id": "ipW9x28rIzP_"
      }
    },
    {
      "cell_type": "code",
      "source": [
        "!nvidia-smi"
      ],
      "metadata": {
        "id": "hWprYkh8I5Zt"
      },
      "execution_count": null,
      "outputs": []
    },
    {
      "cell_type": "markdown",
      "source": [
        "#2.Google Drive Connector"
      ],
      "metadata": {
        "id": "FSpWI5AhI7eH"
      }
    },
    {
      "cell_type": "code",
      "source": [
        "## connecting to the google drive\n",
        "##Drive already mounted at /content/drive; to attempt to forcibly remount, call drive.mount(\"/content/drive\", force_remount=True)\n",
        "from google.colab import drive\n",
        "drive.mount('/content/drive')"
      ],
      "metadata": {
        "id": "7uFvupgMJFkC"
      },
      "execution_count": null,
      "outputs": []
    },
    {
      "cell_type": "code",
      "source": [
        "cd /content/drive/MyDrive"
      ],
      "metadata": {
        "id": "wcLcTPUOKhYW"
      },
      "execution_count": null,
      "outputs": []
    },
    {
      "cell_type": "code",
      "source": [
        "!pwd"
      ],
      "metadata": {
        "id": "i2rZTToQKh2y"
      },
      "execution_count": null,
      "outputs": []
    },
    {
      "cell_type": "markdown",
      "source": [
        "#3.Git Repository"
      ],
      "metadata": {
        "id": "63D0pVyTJJ5j"
      }
    },
    {
      "cell_type": "code",
      "source": [
        "!git clone https://github.com/meituan/YOLOv6.git"
      ],
      "metadata": {
        "id": "Uayg7BDBJT-t"
      },
      "execution_count": null,
      "outputs": []
    },
    {
      "cell_type": "markdown",
      "source": [
        "#4.Installing The Libraries Requirements"
      ],
      "metadata": {
        "id": "YHVaax7uJUZp"
      }
    },
    {
      "cell_type": "code",
      "source": [
        "!pip install -r requirements.txt"
      ],
      "metadata": {
        "id": "j2H4NyHJJdtd"
      },
      "execution_count": null,
      "outputs": []
    },
    {
      "cell_type": "markdown",
      "source": [
        "#5.Downloading the Weights\n",
        "\n",
        "https://github.com/meituan/YOLOv6/releases/download/0.2.0/yolov6l.pt"
      ],
      "metadata": {
        "id": "6SKEbOU7JvOG"
      }
    },
    {
      "cell_type": "code",
      "source": [
        "1wget https://github.com/meituan/YOLOv6/releases/download/0.2.0/yolov6l.pt"
      ],
      "metadata": {
        "id": "W4IVPo3qJ3Ca"
      },
      "execution_count": null,
      "outputs": []
    },
    {
      "cell_type": "markdown",
      "source": [
        "#6.Training"
      ],
      "metadata": {
        "id": "bCL2OuC4J3df"
      }
    },
    {
      "cell_type": "code",
      "source": [
        "!python tools/train.py --batch 8 --img 640 --epochs 100 --conf configs/yolov6m_finetune.py --data-path /content/drive/MyDrive/YOLOv6/dataset.yaml --device 0 --eval-interval 2 --output-dir /content/drive/MyDrive/Data_folder_YOLOv6_Small_Model/training_results --name training_backup --save_ckpt_on_last_n_epoch 10"
      ],
      "metadata": {
        "id": "9BSMFwDlJ8ZE"
      },
      "execution_count": null,
      "outputs": []
    },
    {
      "cell_type": "markdown",
      "source": [
        "## 6.1.Resume"
      ],
      "metadata": {
        "id": "WL9CNc-_OwX3"
      }
    },
    {
      "cell_type": "code",
      "source": [
        "!python tools/train.py --resume /content/drive/MyDrive/Data_folder_YOLOv6_Large_Model/training_results/training_backup/weights/last_ckpt.pt"
      ],
      "metadata": {
        "id": "4RraMM4qO6Ln"
      },
      "execution_count": null,
      "outputs": []
    },
    {
      "cell_type": "markdown",
      "source": [
        "#7.Evaluating"
      ],
      "metadata": {
        "id": "5gUWB7wpJ8wr"
      }
    },
    {
      "cell_type": "code",
      "source": [
        "!python tools/eval.py --data /content/drive/MyDrive/YOLOv6/dataset.yaml --batch 8 --weights /content/drive/MyDrive/Data_folder_YOLOv6_Large_Model/training_results/training_backup/weights/best_ckpt.pt --task val --reproduce_640_eval "
      ],
      "metadata": {
        "id": "Lq8wP8PxJ_tj"
      },
      "execution_count": null,
      "outputs": []
    },
    {
      "cell_type": "markdown",
      "source": [
        "#8.Inference"
      ],
      "metadata": {
        "id": "NQYm0FEIKLUQ"
      }
    },
    {
      "cell_type": "code",
      "source": [
        "!python tools/infer.py --weights /content/drive/MyDrive/Data_folder_YOLOv6_Large_Model/training_results/training_backup/weights/best_ckpt.pt --source /content/drive/MyDrive/new_test_images --yaml /content/drive/MyDrive/YOLOv6/dataset.yaml --save-dir /content/drive/MyDrive/Data_folder_YOLOv6_Large_Model/test_output/new_test_images --device 0"
      ],
      "metadata": {
        "id": "_3Qu9L7bKNiY"
      },
      "execution_count": null,
      "outputs": []
    },
    {
      "cell_type": "markdown",
      "source": [
        "## 8.1 Results"
      ],
      "metadata": {
        "id": "ATOS6b8FMOQe"
      }
    },
    {
      "cell_type": "code",
      "source": [
        "#display result images\n",
        "\n",
        "import glob\n",
        "from IPython.display import Image, display\n",
        "\n",
        "for imageName in glob.glob('/content/drive/MyDrive/Data_folder_YOLOv6_Large_Model/test_output/test/*.jpg'): #assuming JPG\n",
        "    display(Image(filename=imageName))\n",
        "    print(\"\\n\")"
      ],
      "metadata": {
        "id": "4nzefvAiMRTX"
      },
      "execution_count": null,
      "outputs": []
    },
    {
      "cell_type": "markdown",
      "source": [
        "#9.Tensorboard "
      ],
      "metadata": {
        "id": "S42EOU33MkXS"
      }
    },
    {
      "cell_type": "code",
      "source": [
        "%load_ext tensorboard\n",
        "%tensorboard --logdir '/content/drive/MyDrive/Data_folder_YOLOv6_Large_Model/training_results'"
      ],
      "metadata": {
        "id": "A0LLza46MoAc"
      },
      "execution_count": null,
      "outputs": []
    },
    {
      "cell_type": "markdown",
      "source": [
        "#10.Depolyment"
      ],
      "metadata": {
        "id": "QKz22NdvMuTR"
      }
    },
    {
      "cell_type": "code",
      "source": [
        "%pip install onnx>=1.10.0"
      ],
      "metadata": {
        "id": "qowgcqnJMwqE"
      },
      "execution_count": null,
      "outputs": []
    },
    {
      "cell_type": "code",
      "source": [
        "!python deploy/ONNX/export_onnx.py --weights /content/drive/MyDrive/Data_folder_YOLOv6_Large_Model/training_results/training_backup/weights/best_ckpt.pt"
      ],
      "metadata": {
        "id": "PRJT6zDyMzCe"
      },
      "execution_count": null,
      "outputs": []
    },
    {
      "cell_type": "markdown",
      "source": [
        "#11.netron Network Visualization\n",
        "\n",
        "https://github.com/lutzroeder/netron"
      ],
      "metadata": {
        "id": "iedXSpP3M_60"
      }
    },
    {
      "cell_type": "code",
      "source": [],
      "metadata": {
        "id": "msfn3PfFNh4d"
      },
      "execution_count": null,
      "outputs": []
    },
    {
      "cell_type": "markdown",
      "source": [
        "#12 OpenVino"
      ],
      "metadata": {
        "id": "MKehp3NvOiKw"
      }
    },
    {
      "cell_type": "code",
      "source": [],
      "metadata": {
        "id": "YQBnlo4_Ok1o"
      },
      "execution_count": null,
      "outputs": []
    }
  ]
}